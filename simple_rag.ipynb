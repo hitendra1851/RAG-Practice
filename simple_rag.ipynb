{
  "nbformat": 4,
  "nbformat_minor": 0,
  "metadata": {
    "colab": {
      "provenance": []
    },
    "kernelspec": {
      "name": "python3",
      "display_name": "Python 3"
    },
    "language_info": {
      "name": "python"
    }
  },
  "cells": [
    {
      "cell_type": "code",
      "execution_count": 1,
      "metadata": {
        "colab": {
          "base_uri": "https://localhost:8080/"
        },
        "id": "yCVGVZZuik1_",
        "outputId": "1a22fa93-b9a9-47cf-e0b5-1042361baa3c"
      },
      "outputs": [
        {
          "output_type": "stream",
          "name": "stdout",
          "text": [
            "\n",
            "❓ QUESTION: How many vacation days do I get?\n",
            "🔍 FOUND 2 relevant chunks\n",
            "💬 ANSWER: Based on company policies:\n",
            "- Employees get 15-25 vacation days based on years of service\n",
            "- Vacation requests must be submitted 2 weeks in advance\n",
            "\n",
            "\n",
            "❓ QUESTION: What about sick leave?\n",
            "🔍 FOUND 1 relevant chunks\n",
            "💬 ANSWER: Based on company policies:\n",
            "- 10 sick days per year, maximum 20 can be carried over\n",
            "\n",
            "\n",
            "❓ QUESTION: How do I request time off?\n",
            "🔍 FOUND 1 relevant chunks\n",
            "💬 ANSWER: Based on company policies:\n",
            "- Vacation requests must be submitted 2 weeks in advance\n",
            "\n"
          ]
        }
      ],
      "source": [
        "# Simple RAG System\n",
        "\n",
        "knowledge_chunks = {\n",
        "    \"vacation_days\": {\n",
        "        \"text\": \"Employees get 15-25 vacation days based on years of service\",\n",
        "        \"keywords\": [\"vacation\", \"days\", \"time off\", \"PTO\"]\n",
        "    },\n",
        "    \"vacation_process\": {\n",
        "        \"text\": \"Vacation requests must be submitted 2 weeks in advance\",\n",
        "        \"keywords\": [\"vacation\", \"request\", \"advance\", \"notice\"]\n",
        "    },\n",
        "    \"sick_leave\": {\n",
        "        \"text\": \"10 sick days per year, maximum 20 can be carried over\",\n",
        "        \"keywords\": [\"sick\", \"leave\", \"illness\", \"medical\"]\n",
        "    }\n",
        "}\n",
        "\n",
        "def simple_search(question):\n",
        "    \"\"\"Find relevant chunks based on keyword matching\"\"\"\n",
        "    question_words = question.lower().split()\n",
        "\n",
        "    matches = []\n",
        "    for chunk_id, chunk_data in knowledge_chunks.items():\n",
        "        # Count how many keywords match\n",
        "        score = 0\n",
        "        for word in question_words:\n",
        "            if any(keyword in word for keyword in chunk_data[\"keywords\"]):\n",
        "                score += 1\n",
        "\n",
        "        if score > 0:\n",
        "            matches.append((chunk_id, chunk_data, score))\n",
        "\n",
        "    # Sort by score (best matches first)\n",
        "    matches.sort(key=lambda x: x[2], reverse=True)\n",
        "    return matches[:2]\n",
        "\n",
        "def generate_answer(question, relevant_chunks):\n",
        "    \"\"\"Create a response using the found information\"\"\"\n",
        "\n",
        "    if not relevant_chunks:\n",
        "        return \"I don't have information about that topic.\"\n",
        "\n",
        "    # Build context from relevant chunks\n",
        "    context = \"\"\n",
        "    for chunk_id, chunk_data, score in relevant_chunks:\n",
        "        context += f\"- {chunk_data['text']}\\n\"\n",
        "\n",
        "    # Simple response generation\n",
        "    response = f\"Based on company policies:\\n{context}\"\n",
        "    return response\n",
        "\n",
        "# Test our simple RAG system\n",
        "def ask_question(question):\n",
        "    print(f\"QUESTION: {question}\")\n",
        "\n",
        "    # Step 1: Search for relevant information\n",
        "    relevant_chunks = simple_search(question)\n",
        "    print(f\"FOUND {len(relevant_chunks)} relevant chunks\")\n",
        "\n",
        "    # Step 2: Generate answer\n",
        "    answer = generate_answer(question, relevant_chunks)\n",
        "    print(f\"ANSWER: {answer}\")\n",
        "\n",
        "# Try it out!\n",
        "if __name__ == \"__main__\":\n",
        "    ask_question(\"How many vacation days do I get?\")\n",
        "    ask_question(\"What about sick leave?\")\n",
        "    ask_question(\"How do I request time off?\")"
      ]
    }
  ]
}